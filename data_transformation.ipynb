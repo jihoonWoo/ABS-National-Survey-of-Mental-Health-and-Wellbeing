{
 "cells": [
  {
   "cell_type": "markdown",
   "metadata": {},
   "source": [
    "# Data transformation\n",
    "\n",
    "This jupyter notebook contains open source code for transforming a data from the Australian Bureau of Statistics (ABS). The 2007 National Survey of Mental Health and Wellbeing (SMHWB)” collection [1] by the Australian Bureau of Statistics (ABS). This data collection contains information about Australians’ mental health and well-being in 2007. The ABS (https://www.abs.gov.au) is a national statistical agency in Australia, and provides a wide range of statistical data collections on economic, population, environmental, and social issues."
   ]
  },
  {
   "cell_type": "markdown",
   "metadata": {},
   "source": [
    "## Import library"
   ]
  },
  {
   "cell_type": "code",
   "execution_count": 1,
   "metadata": {},
   "outputs": [],
   "source": [
    "import pandas as pd"
   ]
  },
  {
   "cell_type": "markdown",
   "metadata": {},
   "source": [
    "## Download data\n",
    "\n",
    "We download \"*National Survey of Mental Health and Wellbeing: Summary of Results (43260do001_2007.xls)*\" from ABS (https://www.abs.gov.au/statistics/health/mental-health/national-survey-mental-health-and-wellbeing-summary-results/2007#data-download). The data includes information about the 2007 National Survey of Mental Health and Wellbeing (SMHWB) that was designed to provide lifetime prevalence estimates for mental disorders."
   ]
  },
  {
   "cell_type": "code",
   "execution_count": 18,
   "metadata": {},
   "outputs": [],
   "source": [
    "input_file = '43260do001_2007.xls'\n",
    "output_file = 'generated_data/transformed_data.xlsx'\n",
    "writer = pd.ExcelWriter(output_file, engine = 'xlsxwriter')"
   ]
  },
  {
   "cell_type": "markdown",
   "metadata": {},
   "source": [
    "## Read data"
   ]
  },
  {
   "cell_type": "code",
   "execution_count": 19,
   "metadata": {},
   "outputs": [],
   "source": [
    "df1 = pd.read_excel(input_file, sheet_name = 'Table_1', skiprows=4, header=0, skipfooter= 3)\n",
    "df2 = pd.read_excel(input_file, sheet_name = 'Table_3', skiprows=4, header=0, skipfooter= 3)"
   ]
  },
  {
   "cell_type": "markdown",
   "metadata": {},
   "source": [
    "## Extract and transform the data\n",
    "\n",
    "### Table 1: LIFETIME MENTAL DISORDERS"
   ]
  },
  {
   "cell_type": "code",
   "execution_count": 20,
   "metadata": {},
   "outputs": [
    {
     "data": {
      "text/html": [
       "<div>\n",
       "<style scoped>\n",
       "    .dataframe tbody tr th:only-of-type {\n",
       "        vertical-align: middle;\n",
       "    }\n",
       "\n",
       "    .dataframe tbody tr th {\n",
       "        vertical-align: top;\n",
       "    }\n",
       "\n",
       "    .dataframe thead th {\n",
       "        text-align: right;\n",
       "    }\n",
       "</style>\n",
       "<table border=\"1\" class=\"dataframe\">\n",
       "  <thead>\n",
       "    <tr style=\"text-align: right;\">\n",
       "      <th></th>\n",
       "      <th>Disorder types</th>\n",
       "      <th>Males</th>\n",
       "      <th>Females</th>\n",
       "      <th>Persons</th>\n",
       "      <th>Male proportion(%)</th>\n",
       "      <th>Female proportion(%)</th>\n",
       "      <th>Person proportion(%)</th>\n",
       "    </tr>\n",
       "  </thead>\n",
       "  <tbody>\n",
       "    <tr>\n",
       "      <th>10</th>\n",
       "      <td>Any Anxiety disorder</td>\n",
       "      <td>1624.2</td>\n",
       "      <td>2580.8</td>\n",
       "      <td>4205.0</td>\n",
       "      <td>20.4</td>\n",
       "      <td>32.0</td>\n",
       "      <td>26.3</td>\n",
       "    </tr>\n",
       "    <tr>\n",
       "      <th>15</th>\n",
       "      <td>Any Affective disorder</td>\n",
       "      <td>972.1</td>\n",
       "      <td>1433.3</td>\n",
       "      <td>2405.3</td>\n",
       "      <td>12.2</td>\n",
       "      <td>17.8</td>\n",
       "      <td>15.0</td>\n",
       "    </tr>\n",
       "    <tr>\n",
       "      <th>20</th>\n",
       "      <td>Any Substance Use disorder</td>\n",
       "      <td>2816.7</td>\n",
       "      <td>1143.5</td>\n",
       "      <td>3960.3</td>\n",
       "      <td>35.4</td>\n",
       "      <td>14.2</td>\n",
       "      <td>24.7</td>\n",
       "    </tr>\n",
       "    <tr>\n",
       "      <th>21</th>\n",
       "      <td>Any ifetime mental disorder</td>\n",
       "      <td>3822.0</td>\n",
       "      <td>3464.6</td>\n",
       "      <td>7286.6</td>\n",
       "      <td>48.1</td>\n",
       "      <td>43.0</td>\n",
       "      <td>45.5</td>\n",
       "    </tr>\n",
       "  </tbody>\n",
       "</table>\n",
       "</div>"
      ],
      "text/plain": [
       "                 Disorder types   Males  Females  Persons  Male proportion(%)  \\\n",
       "10         Any Anxiety disorder  1624.2   2580.8   4205.0                20.4   \n",
       "15       Any Affective disorder   972.1   1433.3   2405.3                12.2   \n",
       "20   Any Substance Use disorder  2816.7   1143.5   3960.3                35.4   \n",
       "21  Any ifetime mental disorder  3822.0   3464.6   7286.6                48.1   \n",
       "\n",
       "    Female proportion(%)  Person proportion(%)  \n",
       "10                  32.0                  26.3  \n",
       "15                  17.8                  15.0  \n",
       "20                  14.2                  24.7  \n",
       "21                  43.0                  45.5  "
      ]
     },
     "execution_count": 20,
     "metadata": {},
     "output_type": "execute_result"
    }
   ],
   "source": [
    "extract_columns = ['Unnamed: 0', 'Males', 'Females', 'Persons', 'Unnamed: 3', 'Unnamed: 7', 'Unnamed: 11']\n",
    "extract_rows = ['Any Anxiety disorder', 'Any Affective disorder', 'Any Substance Use disorder', 'Any ifetime mental disorder']\n",
    "extracted_df = pd.DataFrame(columns=['Unnamed: 0'])\n",
    "\n",
    "for index, row in df1.iterrows():\n",
    "    if row['Unnamed: 0'] in extract_rows:\n",
    "        extracted_df = extracted_df.append(row)\n",
    "extracted_df = extracted_df.dropna(subset=['Unnamed: 0'], how='all') # drop rows where it contains meaningless values\n",
    "extracted_df = extracted_df[extract_columns]\n",
    "\n",
    "extracted_df.rename(columns={\"Unnamed: 0\": \"Disorder types\", \n",
    "                             \"Unnamed: 3\": \"Male proportion(%)\", \n",
    "                             \"Unnamed: 7\": \"Female proportion(%)\", \n",
    "                             \"Unnamed: 11\":\"Person proportion(%)\"}, inplace=True) #rename columns\n",
    "# save the data as excel file\n",
    "extracted_df.to_excel(writer, sheet_name = 'lifetime')\n",
    "extracted_df"
   ]
  },
  {
   "cell_type": "markdown",
   "metadata": {},
   "source": [
    "We extract columns and rows from the \"Table_1\" in the *National Survey of Mental Health and Wellbeing: Summary of Results 2007* data file. Table_1 contains proportion of lifetime mental disorders by gender and disorder types. \n",
    "According to the transformed data, 45.5% of Australian reported experiencing a mental ill-health (disorder) at some point in their lifetime where male proportion size is around 5 percents greater than female's. "
   ]
  },
  {
   "cell_type": "markdown",
   "metadata": {},
   "source": [
    "### Table 3: 12-MONTHS MENTAL DISORDERS BY AGE GROUP"
   ]
  },
  {
   "cell_type": "code",
   "execution_count": 21,
   "metadata": {},
   "outputs": [
    {
     "data": {
      "text/html": [
       "<div>\n",
       "<style scoped>\n",
       "    .dataframe tbody tr th:only-of-type {\n",
       "        vertical-align: middle;\n",
       "    }\n",
       "\n",
       "    .dataframe tbody tr th {\n",
       "        vertical-align: top;\n",
       "    }\n",
       "\n",
       "    .dataframe thead th {\n",
       "        text-align: right;\n",
       "    }\n",
       "</style>\n",
       "<table border=\"1\" class=\"dataframe\">\n",
       "  <thead>\n",
       "    <tr style=\"text-align: right;\">\n",
       "      <th></th>\n",
       "      <th>Person age groups</th>\n",
       "      <th>Person proportion(%)</th>\n",
       "    </tr>\n",
       "  </thead>\n",
       "  <tbody>\n",
       "    <tr>\n",
       "      <th>21</th>\n",
       "      <td>16–24</td>\n",
       "      <td>26.4</td>\n",
       "    </tr>\n",
       "    <tr>\n",
       "      <th>22</th>\n",
       "      <td>25–34</td>\n",
       "      <td>24.8</td>\n",
       "    </tr>\n",
       "    <tr>\n",
       "      <th>23</th>\n",
       "      <td>35–44</td>\n",
       "      <td>23.3</td>\n",
       "    </tr>\n",
       "    <tr>\n",
       "      <th>24</th>\n",
       "      <td>45–54</td>\n",
       "      <td>21.5</td>\n",
       "    </tr>\n",
       "    <tr>\n",
       "      <th>25</th>\n",
       "      <td>55–64</td>\n",
       "      <td>13.6</td>\n",
       "    </tr>\n",
       "    <tr>\n",
       "      <th>26</th>\n",
       "      <td>65–74</td>\n",
       "      <td>8.6</td>\n",
       "    </tr>\n",
       "  </tbody>\n",
       "</table>\n",
       "</div>"
      ],
      "text/plain": [
       "   Person age groups  Person proportion(%)\n",
       "21             16–24                  26.4\n",
       "22             25–34                  24.8\n",
       "23             35–44                  23.3\n",
       "24             45–54                  21.5\n",
       "25             55–64                  13.6\n",
       "26             65–74                   8.6"
      ]
     },
     "execution_count": 21,
     "metadata": {},
     "output_type": "execute_result"
    }
   ],
   "source": [
    "extract_columns = ['Unnamed: 0', 'Unnamed: 15'] \n",
    "extract_rows = ['PERSONS']\n",
    "\n",
    "extracted_df2 = pd.DataFrame(columns=['Unnamed: 0'])\n",
    "\n",
    "rows_no = 0\n",
    "for index, row in df2.iterrows():\n",
    "    if rows_no > 0:\n",
    "        extracted_df2 = extracted_df2.append(row)\n",
    "    if row['Unnamed: 0'] in extract_rows:\n",
    "        rows_no = 7\n",
    "    rows_no -= 1\n",
    "    \n",
    "extracted_df2 = extracted_df2.dropna(subset=['Unnamed: 0'], how='all') # drop rows where it contains meaningless values\n",
    "extracted_df2 = extracted_df2[extract_columns]\n",
    "\n",
    "extracted_df2.rename(columns={\"Unnamed: 0\":\"Person age groups\",\n",
    "                             \"Unnamed: 15\":\"Person proportion(%)\"}, inplace=True) #rename columns\n",
    "# save the data as excel file\n",
    "extracted_df2.to_excel(writer, sheet_name = '12-months')\n",
    "extracted_df2"
   ]
  },
  {
   "cell_type": "markdown",
   "metadata": {},
   "source": [
    "Table 3 includes information about 12-month mental disorders by age group. We extract and transform the data; the result showed in the above table. The proportion size getting decrease while age group are increased."
   ]
  },
  {
   "cell_type": "markdown",
   "metadata": {},
   "source": [
    "## Save the results"
   ]
  },
  {
   "cell_type": "code",
   "execution_count": 23,
   "metadata": {},
   "outputs": [],
   "source": [
    "# save retuls\n",
    "writer.save()\n",
    "writer.close()"
   ]
  },
  {
   "cell_type": "markdown",
   "metadata": {},
   "source": [
    "## Conclusion\n",
    "\n",
    "In this Jupyter notebook, we demonstrated how to transform a data tables by using python code. The National Survey of Mental Health and Wellbeing: Summary of Results:2007 data from ABS has been transformed to excel file with two tables. First table contains proportion of lifetime mental disorders by gender and disorder types while second table contains proportion of 12-months mental disorders by age groups.  "
   ]
  },
  {
   "cell_type": "markdown",
   "metadata": {},
   "source": [
    "# References\n",
    "\n",
    "[1] Australian Bureau of Statistics, National Survey of Mental Health and Wellbeing: summary of results, Australian Bureau of Statistics, 2008. [Dataset] Available:https://www.abs.gov.au/statistics/health/mental-health/national-survey-mental-health-and-wellbeing-summary-results/2007. [Accessed: January 4, 2021]."
   ]
  }
 ],
 "metadata": {
  "kernelspec": {
   "display_name": "Python 3",
   "language": "python",
   "name": "python3"
  },
  "language_info": {
   "codemirror_mode": {
    "name": "ipython",
    "version": 3
   },
   "file_extension": ".py",
   "mimetype": "text/x-python",
   "name": "python",
   "nbconvert_exporter": "python",
   "pygments_lexer": "ipython3",
   "version": "3.8.3"
  },
  "toc": {
   "base_numbering": 1,
   "nav_menu": {},
   "number_sections": false,
   "sideBar": true,
   "skip_h1_title": false,
   "title_cell": "Table of Contents",
   "title_sidebar": "Contents",
   "toc_cell": false,
   "toc_position": {
    "height": "calc(100% - 180px)",
    "left": "10px",
    "top": "150px",
    "width": "384px"
   },
   "toc_section_display": true,
   "toc_window_display": true
  }
 },
 "nbformat": 4,
 "nbformat_minor": 4
}
